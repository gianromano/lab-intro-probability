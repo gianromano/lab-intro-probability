{
 "cells": [
  {
   "cell_type": "markdown",
   "metadata": {},
   "source": [
    "# Lab | Intro to Probability"
   ]
  },
  {
   "cell_type": "markdown",
   "metadata": {},
   "source": [
    "**Objective**\n",
    "\n",
    "Welcome to this Intro to Probability lab, where we explore decision-making scenarios through the lens of probability and strategic analysis. In the business world, making informed decisions is crucial, especially when faced with uncertainties. This lab focuses on scenarios where probabilistic outcomes play a significant role in shaping strategies and outcomes. Students will engage in exercises that require assessing and choosing optimal paths based on data-driven insights. The goal is to enhance your skills by applying probability concepts to solve real-world problems."
   ]
  },
  {
   "cell_type": "code",
   "execution_count": 1,
   "metadata": {},
   "outputs": [],
   "source": [
    "from scipy.stats import binom"
   ]
  },
  {
   "cell_type": "markdown",
   "metadata": {},
   "source": [
    "**Challenge 1**"
   ]
  },
  {
   "cell_type": "markdown",
   "metadata": {},
   "source": [
    "#### Ironhack Airlines \n",
    "\n",
    "Often Airlines sell more tickets than they have seats available, this is called overbooking. Consider the following:\n",
    "- A plane has 450 seats. \n",
    "- Based on historical data we conclude that each individual passenger has a 3% chance of missing it's flight. \n",
    "\n",
    "If the Ironhack Airlines routinely sells 460 tickets, what is the chance that they have a seats for all passenger?"
   ]
  },
  {
   "cell_type": "code",
   "execution_count": 2,
   "metadata": {},
   "outputs": [
    {
     "name": "stdout",
     "output_type": "stream",
     "text": [
      "Probability that there are enough seats for all passengers: 0.7374241268949284\n"
     ]
    }
   ],
   "source": [
    "## ** Binomial **\n",
    "# Number of extra passengers\n",
    "n_extra_passengers = 460 - 450\n",
    "\n",
    "# Probability of a passenger missing their flight\n",
    "p = 0.03\n",
    "\n",
    "# Number of trials\n",
    "n_trials = n_extra_passengers\n",
    "\n",
    "# Calculate the probability using the binomial distribution\n",
    "probability = binom.pmf(0, n_trials, p)\n",
    "\n",
    "print(\"Probability that there are enough seats for all passengers:\", probability)"
   ]
  },
  {
   "cell_type": "markdown",
   "metadata": {},
   "source": [
    "**Challenge 2**"
   ]
  },
  {
   "cell_type": "markdown",
   "metadata": {},
   "source": [
    "#### Ironhack Call Center "
   ]
  },
  {
   "cell_type": "markdown",
   "metadata": {},
   "source": [
    "Suppose a customer service representative at a call center is handling customer complaints. Consider the following:\n",
    "- The probability of successfully resolving a customer complaint on the first attempt is 0.3. \n",
    "\n",
    "\n",
    "What is the probability that the representative needs to make at least three attempts before successfully resolving a customer complaint?"
   ]
  },
  {
   "cell_type": "code",
   "execution_count": 5,
   "metadata": {},
   "outputs": [],
   "source": [
    "from scipy.stats import geom"
   ]
  },
  {
   "cell_type": "code",
   "execution_count": 8,
   "metadata": {},
   "outputs": [
    {
     "name": "stdout",
     "output_type": "stream",
     "text": [
      "LA probabilidad de resolverlo a la primera 0.3\n",
      "Probabilidad de necesitar al menos tres intentos: 0.49\n"
     ]
    }
   ],
   "source": [
    "## ** GEometric **\n",
    "# Probability of successfully resolving a customer complaint on the first attempt\n",
    "\n",
    "p = 0.3\n",
    "geom_dist = geom(p)\n",
    "\n",
    "print(f\"LA probabilidad de resolverlo a la primera {geom_dist.pmf(1)}\")\n",
    "\n",
    "\n",
    "\n",
    "probability = 1 - geom_dist.cdf(2)\n",
    "\n",
    "print(\"Probabilidad de necesitar al menos tres intentos:\", probability)"
   ]
  },
  {
   "cell_type": "markdown",
   "metadata": {},
   "source": [
    "**Challenge 3**"
   ]
  },
  {
   "cell_type": "markdown",
   "metadata": {},
   "source": [
    "#### Ironhack Website"
   ]
  },
  {
   "cell_type": "markdown",
   "metadata": {},
   "source": [
    "Consider a scenario related to Ironhack website traffic. Where:\n",
    "- our website takes on average 500 visits per hour.\n",
    "- the website's server is designed to handle up to 550 vists per hour.\n",
    "\n",
    "\n",
    "What is the probability of the website server being overwhelmed?"
   ]
  },
  {
   "cell_type": "code",
   "execution_count": 9,
   "metadata": {},
   "outputs": [],
   "source": [
    "from scipy.stats import poisson\n"
   ]
  },
  {
   "cell_type": "code",
   "execution_count": 10,
   "metadata": {},
   "outputs": [
    {
     "name": "stdout",
     "output_type": "stream",
     "text": [
      "The probability of the website server being overwhelmed is 0.0015115070495210661\n"
     ]
    }
   ],
   "source": [
    "## ** Poisson **\n",
    "\n",
    "mu = 500\n",
    "poisson_dist = poisson(mu)\n",
    "\n",
    "print(f\"The probability of the website server being overwhelmed is {poisson_dist.pmf(550)}\")"
   ]
  },
  {
   "cell_type": "markdown",
   "metadata": {},
   "source": [
    "What is the probability of being overwhelmed at some point during a day? (consider 24hours)"
   ]
  },
  {
   "cell_type": "code",
   "execution_count": 11,
   "metadata": {},
   "outputs": [
    {
     "name": "stdout",
     "output_type": "stream",
     "text": [
      "The probability of the website server being overwhelmed during a day is 0.0\n"
     ]
    }
   ],
   "source": [
    "mu_24= 12000\n",
    "print(f\"The probability of the website server being overwhelmed during a day is {1 - poisson_dist.cdf(13200)}\")"
   ]
  },
  {
   "cell_type": "markdown",
   "metadata": {},
   "source": [
    "**Challenge 4**"
   ]
  },
  {
   "cell_type": "markdown",
   "metadata": {},
   "source": [
    "#### Ironhack Helpdesk"
   ]
  },
  {
   "cell_type": "markdown",
   "metadata": {},
   "source": [
    "Consider a scenario related to the time between arrivals of customers at a service desk.\n",
    "\n",
    "On average, a customers arrives every 10minutes.\n",
    "\n",
    "What is the probability that the next customer will arrive within the next 5 minutes?"
   ]
  },
  {
   "cell_type": "code",
   "execution_count": 12,
   "metadata": {},
   "outputs": [],
   "source": [
    "from scipy.stats import expon"
   ]
  },
  {
   "cell_type": "code",
   "execution_count": 18,
   "metadata": {},
   "outputs": [
    {
     "name": "stdout",
     "output_type": "stream",
     "text": [
      "Probabilidad de que el próximo cliente llegue dentro de los próximos 5 minutos: 0.3934693402873666\n"
     ]
    }
   ],
   "source": [
    "## ** Exponencial **\n",
    "\n",
    "# Tasa de llegada promedio\n",
    "lambda_value = 1/10\n",
    "\n",
    "# Calcular la probabilidad de que el próximo cliente llegue dentro de los próximos 5 minutos\n",
    "lambda_inv = expon.cdf(5, scale=1/lambda_value)\n",
    "\n",
    "print(\"Probabilidad de que el próximo cliente llegue dentro de los próximos 5 minutos:\", lambda_inv)"
   ]
  },
  {
   "cell_type": "markdown",
   "metadata": {},
   "source": [
    "If there is no customer for 15minutes, employees can that a 5minutes break.\n",
    "\n",
    "What is the probability an employee taking a break?"
   ]
  },
  {
   "cell_type": "code",
   "execution_count": 19,
   "metadata": {},
   "outputs": [
    {
     "name": "stdout",
     "output_type": "stream",
     "text": [
      "Probabilidad de que un empleado tome un descanso de 5 minutos: 0.2231301601484298\n"
     ]
    }
   ],
   "source": [
    "# Tasa de llegada promedio\n",
    "\n",
    "lambda_value = 1/10\n",
    "\n",
    "# Calcular la probabilidad de que el tiempo hasta el próximo cliente sea mayor que 15 minutos\n",
    "lambda_inv = 1 - expon.cdf(15, scale=1/lambda_value)\n",
    "\n",
    "print(\"Probabilidad de que un empleado tome un descanso de 5 minutos:\", lambda_inv)"
   ]
  },
  {
   "cell_type": "markdown",
   "metadata": {},
   "source": [
    "**Challenge 5**"
   ]
  },
  {
   "cell_type": "markdown",
   "metadata": {},
   "source": [
    "The weights of a certain species of birds follow a normal distribution with a mean weight of 150 grams and a standard deviation of 10 grams. \n",
    "\n",
    "- If we randomly select a bird, what is the probability that its weight is between 140 and 160 grams?"
   ]
  },
  {
   "cell_type": "code",
   "execution_count": 27,
   "metadata": {},
   "outputs": [],
   "source": [
    "from scipy.stats import norm\n",
    "\n"
   ]
  },
  {
   "cell_type": "code",
   "execution_count": 28,
   "metadata": {},
   "outputs": [
    {
     "name": "stdout",
     "output_type": "stream",
     "text": [
      "Probabilidad de que el peso esté entre 140 y 160 gramos:  0.6826894921370859\n"
     ]
    }
   ],
   "source": [
    "## **NORMAL O GAUSS ** \n",
    "mean = 150\n",
    "\n",
    "std_dev = 10\n",
    "\n",
    "# Calcular la probabilidad de que el peso esté entre 140 y 160 gramos\n",
    "probability = norm.cdf(160, loc=mean, scale=std_dev) - norm.cdf(140, loc=mean, scale=std_dev)\n",
    "\n",
    "print(\"Probabilidad de que el peso esté entre 140 y 160 gramos: \", probability)"
   ]
  },
  {
   "cell_type": "markdown",
   "metadata": {},
   "source": [
    "**Challenge 6**"
   ]
  },
  {
   "cell_type": "markdown",
   "metadata": {},
   "source": [
    "If the lifetime (in hours) of a certain electronic component follows an exponential distribution with a mean lifetime of 50 hours, what is the probability that the component fails within the first 30 hours?"
   ]
  },
  {
   "cell_type": "code",
   "execution_count": 29,
   "metadata": {},
   "outputs": [],
   "source": [
    "from scipy.stats import expon\n"
   ]
  },
  {
   "cell_type": "code",
   "execution_count": 30,
   "metadata": {},
   "outputs": [
    {
     "name": "stdout",
     "output_type": "stream",
     "text": [
      "Probabilidad de que el componente falle dentro de las primeras 30 horas: 0.4511883639059735\n"
     ]
    }
   ],
   "source": [
    "\n",
    "# Vida útil media del componente (en horas)\n",
    "mean_lifetime = 50\n",
    "\n",
    "# Tasa de fallos promedio (por hora)\n",
    "lambda_ = 1 / mean_lifetime\n",
    "\n",
    "# Calcular la probabilidad de que el componente falle dentro de las primeras 30 horas\n",
    "probability = expon.cdf(30, scale=1/lambda_)\n",
    "\n",
    "print(\"Probabilidad de que el componente falle dentro de las primeras 30 horas:\", probability)"
   ]
  }
 ],
 "metadata": {
  "kernelspec": {
   "display_name": "Python 3",
   "language": "python",
   "name": "python3"
  },
  "language_info": {
   "codemirror_mode": {
    "name": "ipython",
    "version": 3
   },
   "file_extension": ".py",
   "mimetype": "text/x-python",
   "name": "python",
   "nbconvert_exporter": "python",
   "pygments_lexer": "ipython3",
   "version": "3.11.7"
  }
 },
 "nbformat": 4,
 "nbformat_minor": 2
}
